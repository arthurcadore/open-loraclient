{
 "cells": [
  {
   "cell_type": "code",
   "execution_count": 1,
   "metadata": {},
   "outputs": [],
   "source": [
    "import csv"
   ]
  },
  {
   "cell_type": "code",
   "execution_count": 22,
   "metadata": {},
   "outputs": [],
   "source": [
    "def calcular_estatisticas_rssi(nome_arquivo):\n",
    "    try:\n",
    "        with open(nome_arquivo, \n",
    "                  mode='r', \n",
    "                  newline='', \n",
    "                  encoding='utf-8-sig') as arquivo:\n",
    "            leitor_csv = csv.reader(arquivo)\n",
    "            rssi_valores = []\n",
    "            \n",
    "            for linha in leitor_csv:\n",
    "                # A primeira coluna contém os valores de RSSI\n",
    "                rssi_valor = linha[0].strip()  # Remove espaços extras\n",
    "                rssi_valores.append(int(rssi_valor))\n",
    "            \n",
    "            if rssi_valores:\n",
    "                # Cálculo da média\n",
    "                media_rssi = sum(rssi_valores) / len(rssi_valores)\n",
    "                \n",
    "                # Cálculo da variância\n",
    "                variancia_rssi = (\n",
    "                    sum((x - media_rssi) ** 2 for x in rssi_valores) \n",
    "                    / len(rssi_valores))\n",
    "                \n",
    "                print(f\"Média da RSSI: {media_rssi:.2f}\")\n",
    "                print(f\"Variância da RSSI: {variancia_rssi:.2f}\")\n",
    "            else:\n",
    "                print(\"O arquivo está vazio.\")\n",
    "    except FileNotFoundError:\n",
    "        print(f\"O arquivo '{nome_arquivo}' não foi encontrado.\")\n",
    "    except IndexError:\n",
    "        print(\"Erro ao acessar as colunas do arquivo.\")\n",
    "    except ValueError as e:\n",
    "        print(f\"Erro ao processar valores de RSSI: {e}\")"
   ]
  },
  {
   "cell_type": "code",
   "execution_count": 24,
   "metadata": {},
   "outputs": [
    {
     "name": "stdout",
     "output_type": "stream",
     "text": [
      "Média da RSSI: -94.27\n",
      "Variância da RSSI: 21.11\n",
      "Média da RSSI: -99.75\n",
      "Variância da RSSI: 24.19\n",
      "Média da RSSI: -96.83\n",
      "Variância da RSSI: 8.64\n",
      "Média da RSSI: -93.00\n",
      "Variância da RSSI: 65.00\n",
      "Média da RSSI: -99.71\n",
      "Variância da RSSI: 37.63\n",
      "Média da RSSI: -69.85\n",
      "Variância da RSSI: 10.59\n"
     ]
    }
   ],
   "source": [
    "# Substitua 'seu_arquivo.csv' pelo caminho do seu arquivo\n",
    "calcular_estatisticas_rssi('inicio1.csv')\n",
    "calcular_estatisticas_rssi('pt1.csv')\n",
    "calcular_estatisticas_rssi('pt2.csv')\n",
    "calcular_estatisticas_rssi('pt3.csv')\n",
    "calcular_estatisticas_rssi('pt4.csv')\n",
    "calcular_estatisticas_rssi('pt5.csv')\n",
    "\n"
   ]
  }
 ],
 "metadata": {
  "kernelspec": {
   "display_name": ".venv",
   "language": "python",
   "name": "python3"
  },
  "language_info": {
   "codemirror_mode": {
    "name": "ipython",
    "version": 3
   },
   "file_extension": ".py",
   "mimetype": "text/x-python",
   "name": "python",
   "nbconvert_exporter": "python",
   "pygments_lexer": "ipython3",
   "version": "3.12.3"
  }
 },
 "nbformat": 4,
 "nbformat_minor": 2
}
